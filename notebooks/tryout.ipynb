{
 "cells": [
  {
   "cell_type": "code",
   "execution_count": 1,
   "metadata": {},
   "outputs": [],
   "source": [
    "%load_ext autoreload"
   ]
  },
  {
   "cell_type": "code",
   "execution_count": 1,
   "metadata": {},
   "outputs": [
    {
     "name": "stdout",
     "output_type": "stream",
     "text": [
      "c:\\Users\\David\\Source\\supervisedgenksc\n"
     ]
    }
   ],
   "source": [
    "import sys\n",
    "import os\n",
    "\n",
    "# Get the project's root directory\n",
    "project_root = os.path.abspath(os.path.join(os.getcwd(), \"..\"))\n",
    "\n",
    "# Change the current working directory to project_root\n",
    "os.chdir(project_root)\n",
    "\n",
    "print(os.getcwd())  # This should now print the project_root path\n",
    "\n"
   ]
  },
  {
   "cell_type": "code",
   "execution_count": 2,
   "metadata": {},
   "outputs": [
    {
     "name": "stdout",
     "output_type": "stream",
     "text": [
      "Original dcos matrix:\n",
      "tensor([[0.8000, 0.3000, 0.5000],\n",
      "        [0.4000, 0.1000, 0.6000],\n",
      "        [0.7000, 0.9000, 0.2000],\n",
      "        [0.5000, 0.4000, 0.3000]])\n",
      "\n",
      "Labels (NaN means unlabeled):\n",
      "tensor([0., 1., nan, 2.])\n",
      "\n",
      "Final dcos (distances used for loss calculation):\n",
      "tensor([[0.8000, 0.1000, 0.3000],\n",
      "        [0.8000, 0.1000, 0.3000],\n",
      "        [0.2000, 0.2000, 0.2000],\n",
      "        [0.8000, 0.1000, 0.3000]])\n",
      "\n",
      "Cosine distance loss: tensor([[0.6500, 0.1250, 0.2750]])\n",
      "\n",
      "Expected final dcos:\n",
      "tensor([0.8000, 0.1000, 0.2000, 0.3000])\n",
      "Expected loss: 0.3500000238418579\n"
     ]
    }
   ],
   "source": [
    "import torch\n",
    "import torch.nn as nn\n",
    "\n",
    "from src.training import RKMStiefelLightning, load_config\n",
    "\n",
    "\n",
    "\n",
    "\n",
    "batch_size = 4\n",
    "num_clusters = 3\n",
    "\n",
    "# Create a dummy distance matrix (batch_size x num_clusters)\n",
    "# Each row represents distances from a sample to each cluster\n",
    "dcos = torch.tensor([\n",
    "    [0.8, 0.3, 0.5],  # Sample 0 distances to clusters 0,1,2\n",
    "    [0.4, 0.1, 0.6],  # Sample 1 distances to clusters 0,1,2\n",
    "    [0.7, 0.9, 0.2],  # Sample 2 distances to clusters 0,1,2\n",
    "    [0.5, 0.4, 0.3]   # Sample 3 distances to clusters 0,1,2\n",
    "], dtype=torch.float32)\n",
    "\n",
    "# Create labels: some labeled, some unlabeled (NaN)\n",
    "# 0 -> label is 0, 1 -> label is 1, NaN -> unlabeled\n",
    "labels = torch.tensor([0, 1, float('nan'), 2], dtype=torch.float32)\n",
    "\n",
    "\n",
    "config = load_config(\"config/config.yaml\")\n",
    "\n",
    "final_dcos, loss = RKMStiefelLightning(config=config)._calculate_cosine_distance_loss(dcos=dcos, labels=labels,N= dcos.size(0))\n",
    "\n",
    "print(\"Original dcos matrix:\")\n",
    "print(dcos)\n",
    "print(\"\\nLabels (NaN means unlabeled):\")\n",
    "print(labels)\n",
    "print(\"\\nFinal dcos (distances used for loss calculation):\")\n",
    "print(final_dcos)\n",
    "print(\"\\nCosine distance loss:\", loss)\n",
    "\n",
    "# Expected values calculation\n",
    "expected_final_dcos = torch.tensor([\n",
    "    0.8,  # Sample 0 has label 0, so distance is 0.8\n",
    "    0.1,  # Sample 1 has label 1, so distance is 0.1\n",
    "    0.2,  # Sample 2 is unlabeled, min distance is 0.2\n",
    "    0.3   # Sample 3 has label 2, so distance is 0.3\n",
    "], dtype=torch.float32)\n",
    "\n",
    "expected_loss = expected_final_dcos.sum() / batch_size\n",
    "\n",
    "print(\"\\nExpected final dcos:\")\n",
    "print(expected_final_dcos)\n",
    "print(\"Expected loss:\", expected_loss.item())\n"
   ]
  },
  {
   "cell_type": "code",
   "execution_count": 12,
   "metadata": {},
   "outputs": [
    {
     "name": "stdout",
     "output_type": "stream",
     "text": [
      "Labels : tensor([0., 1., nan, 2.])\n",
      "Distances : tensor([[0.8000, 0.3000, 0.5000],\n",
      "        [0.4000, 0.1000, 0.6000],\n",
      "        [0.7000, 0.9000, 0.2000],\n",
      "        [0.5000, 0.4000, 0.3000]])\n",
      "Final Distances : tensor([0.8000, 0.1000, 0.2000, 0.3000])\n"
     ]
    }
   ],
   "source": [
    "N = dcos.size(0)\n",
    "k = dcos.size(1)\n",
    "\n",
    "final_dcos = torch.zeros_like(labels)\n",
    "unlabelled_mask = torch.isnan(labels)\n",
    "labelled_mask = ~unlabelled_mask\n",
    "\n",
    "\n",
    "\n",
    "if labelled_mask.any():\n",
    "    final_dcos[labelled_mask] = dcos[labelled_mask, labels[labelled_mask].long()]\n",
    "\n",
    "if unlabelled_mask.any():\n",
    "    final_dcos[unlabelled_mask] = torch.min(dcos[unlabelled_mask], dim=1).values\n",
    "\n",
    "print(f\"Labels : {labels}\")\n",
    "print(f\"Distances : {dcos}\")\n",
    "\n",
    "print(f\"Final Distances : {final_dcos}\")\n"
   ]
  },
  {
   "cell_type": "code",
   "execution_count": null,
   "metadata": {},
   "outputs": [],
   "source": [
    "\n",
    "if unlabelled_mask.any():\n",
    "    final_dcos[unlabelled_mask] = torch.min(dcos[unlabelled_mask], dim=1).values\n",
    "\n",
    "oneN = torch.ones(N, 1)\n",
    "cosine_distance_loss = oneN.t() @ final_dcos"
   ]
  }
 ],
 "metadata": {
  "kernelspec": {
   "display_name": "supervisedgenksc",
   "language": "python",
   "name": "supervisedgenksc"
  },
  "language_info": {
   "codemirror_mode": {
    "name": "ipython",
    "version": 3
   },
   "file_extension": ".py",
   "mimetype": "text/x-python",
   "name": "python",
   "nbconvert_exporter": "python",
   "pygments_lexer": "ipython3",
   "version": "3.11.6"
  }
 },
 "nbformat": 4,
 "nbformat_minor": 2
}
